{
 "cells": [
  {
   "cell_type": "code",
   "execution_count": 1,
   "metadata": {},
   "outputs": [
    {
     "name": "stdout",
     "output_type": "stream",
     "text": [
      "[u'austen-emma.txt', u'austen-persuasion.txt', u'austen-sense.txt', u'bible-kjv.txt', u'blake-poems.txt', u'bryant-stories.txt', u'burgess-busterbrown.txt', u'carroll-alice.txt', u'chesterton-ball.txt', u'chesterton-brown.txt', u'chesterton-thursday.txt', u'edgeworth-parents.txt', u'melville-moby_dick.txt', u'milton-paradise.txt', u'shakespeare-caesar.txt', u'shakespeare-hamlet.txt', u'shakespeare-macbeth.txt', u'whitman-leaves.txt']\n"
     ]
    }
   ],
   "source": [
    "import nltk\n",
    "from nltk.corpus import gutenberg\n",
    "print(gutenberg.fileids())\n"
   ]
  },
  {
   "cell_type": "code",
   "execution_count": 6,
   "metadata": {},
   "outputs": [],
   "source": [
    "gb_words = gutenberg.words('bible-kjv.txt')\n",
    "words_filtered = [e for e in gb_words if len(e) >= 3]\n"
   ]
  },
  {
   "cell_type": "code",
   "execution_count": 7,
   "metadata": {
    "collapsed": true
   },
   "outputs": [],
   "source": [
    "stopwords = nltk.corpus.stopwords.words('english')\n",
    "words = [w for w in words_filtered if w.lower() not in stopwords]"
   ]
  },
  {
   "cell_type": "code",
   "execution_count": 9,
   "metadata": {},
   "outputs": [],
   "source": [
    "fdistPlain = nltk.FreqDist(words)\n",
    "fdist = nltk.FreqDist(gb_words)"
   ]
  },
  {
   "cell_type": "code",
   "execution_count": 10,
   "metadata": {},
   "outputs": [
    {
     "name": "stdout",
     "output_type": "stream",
     "text": [
      "Following are the most common 10 words in the bag\n",
      "[(u'shall', 9760), (u'unto', 8940), (u'LORD', 6651), (u'thou', 4890), (u'thy', 4450), (u'God', 4115), (u'said', 3995), (u'thee', 3827), (u'upon', 2730), (u'man', 2721)]\n",
      "Following are the most common 10 words in the bag minus the stopwords\n",
      "[(u',', 70509), (u'the', 62103), (u':', 43766), (u'and', 38847), (u'of', 34480), (u'.', 26160), (u'to', 13396), (u'And', 12846), (u'that', 12576), (u'in', 12331)]\n"
     ]
    }
   ],
   "source": [
    "print('Following are the most common 10 words in the bag')\n",
    "print(fdistPlain.most_common(10))\n",
    "print('Following are the most common 10 words in the bag minus the stopwords')\n",
    "print(fdist.most_common(10))"
   ]
  }
 ],
 "metadata": {
  "kernelspec": {
   "display_name": "Python 2",
   "language": "python",
   "name": "python2"
  },
  "language_info": {
   "codemirror_mode": {
    "name": "ipython",
    "version": 2
   },
   "file_extension": ".py",
   "mimetype": "text/x-python",
   "name": "python",
   "nbconvert_exporter": "python",
   "pygments_lexer": "ipython2",
   "version": "2.7.14"
  }
 },
 "nbformat": 4,
 "nbformat_minor": 2
}
