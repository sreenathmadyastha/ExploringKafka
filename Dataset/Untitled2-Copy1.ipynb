{
 "cells": [
  {
   "cell_type": "code",
   "execution_count": 4,
   "metadata": {
    "collapsed": true
   },
   "outputs": [],
   "source": [
    "import re\n"
   ]
  },
  {
   "cell_type": "code",
   "execution_count": 1,
   "metadata": {},
   "outputs": [],
   "source": [
    "patterns = [ 'Tuffy', 'Pie', 'Loki' ]\n",
    "text = 'Tuffy eats pie, Loki eats peas!'"
   ]
  },
  {
   "cell_type": "code",
   "execution_count": 5,
   "metadata": {},
   "outputs": [
    {
     "name": "stdout",
     "output_type": "stream",
     "text": [
      "('Searching for \"Tuffy\" in \"Tuffy eats pie, Loki eats peas!\" -&gt;',)\n",
      "Found!\n",
      "('Searching for \"Pie\" in \"Tuffy eats pie, Loki eats peas!\" -&gt;',)\n",
      "Not Found!\n",
      "('Searching for \"Loki\" in \"Tuffy eats pie, Loki eats peas!\" -&gt;',)\n",
      "Found!\n"
     ]
    }
   ],
   "source": [
    "for pattern in patterns:\n",
    " print('Searching for \"%s\" in \"%s\" -&gt;' % (pattern, text),)\n",
    " if re.search(pattern,  text):\n",
    "   print('Found!')\n",
    " else:\n",
    "   print('Not Found!')"
   ]
  }
 ],
 "metadata": {
  "kernelspec": {
   "display_name": "Python 2",
   "language": "python",
   "name": "python2"
  },
  "language_info": {
   "codemirror_mode": {
    "name": "ipython",
    "version": 2
   },
   "file_extension": ".py",
   "mimetype": "text/x-python",
   "name": "python",
   "nbconvert_exporter": "python",
   "pygments_lexer": "ipython2",
   "version": "2.7.14"
  }
 },
 "nbformat": 4,
 "nbformat_minor": 2
}
