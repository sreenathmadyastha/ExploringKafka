{
 "cells": [
  {
   "cell_type": "code",
   "execution_count": 19,
   "metadata": {},
   "outputs": [],
   "source": [
    "from PyPDF2 import PdfFileReader\n",
    "\n",
    "def getTextPDF (pdfFileName, password=''):\n",
    "  pdf_file = open(pdfFileName, 'rb')\n",
    "  read_pdf = PdfFileReader(pdf_file)\n",
    "  \n",
    "  if password != '':\n",
    "   read_pdf.decrypt(password)\n",
    "  text = []\n",
    "  for i in range(-1,read_pdf.numPages-1):\n",
    "   text.append(read_pdf.getPage(i).extractText())\n",
    "  return '\\n'.join(text)"
   ]
  },
  {
   "cell_type": "code",
   "execution_count": 20,
   "metadata": {},
   "outputs": [
    {
     "name": "stdout",
     "output_type": "stream",
     "text": [
      "('PDF 1: \\n', u'This is a sample PDF document I am using to demonstrate in the tutorial.\\n \\n')\n",
      "('PDF 2: \\n', u'This is a sample PDF document\\n \\npassword protected.\\n \\n')\n"
     ]
    }
   ],
   "source": [
    "pdfFile = '/home/smadyastha/Projects/PythonCheck/Feed/sample-one-line.pdf'\n",
    "pdfFileEncrypted = '/home/smadyastha/Projects/PythonCheck/Feed/sample-one-line.protected.pdf'\n",
    "print('PDF 1: \\n',getTextPDF(pdfFile))\n",
    "print('PDF 2: \\n',getTextPDF(pdfFileEncrypted,'tuffy'))"
   ]
  }
 ],
 "metadata": {
  "kernelspec": {
   "display_name": "Python 2",
   "language": "python",
   "name": "python2"
  },
  "language_info": {
   "codemirror_mode": {
    "name": "ipython",
    "version": 2
   },
   "file_extension": ".py",
   "mimetype": "text/x-python",
   "name": "python",
   "nbconvert_exporter": "python",
   "pygments_lexer": "ipython2",
   "version": "2.7.14"
  }
 },
 "nbformat": 4,
 "nbformat_minor": 2
}
