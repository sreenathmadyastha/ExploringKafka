{
 "cells": [
  {
   "cell_type": "code",
   "execution_count": 2,
   "metadata": {
    "collapsed": true
   },
   "outputs": [],
   "source": [
    "story1 = \"\"\"In a far away kingdom, there was a river. This river was home to many golden swans. The swans spent most of their time on the banks of the river. Every six months, the swans would leave a golden feather as a fee for using the lake. The soldiers of the kingdom would collect the feathers and deposit them in the royal treasury.\n",
    "One day, a homeless bird saw the river. \"The water in this river seems so cool and soothing. I will make my home here,\" thought the bird.\n",
    "As soon as the bird settled down near the river, the golden swans noticed her. They came shouting. \"This river belongs to us. We pay a golden feather to the King to use this river. You can not live here.\"\n",
    "\"I am homeless, brothers. I too will pay the rent. Please give me shelter,\" the bird pleaded. \"How will you pay the rent? You do not have golden feathers,\" said the swans laughing. They further added, \"Stop dreaming and leave once.\" The humble bird pleaded many times. But the arrogant swans drove the bird away.\n",
    "\"I will teach them a lesson!\" decided the humiliated bird.\n",
    "She went to the King and said, \"O King! The swans in your river are impolite and unkind. I begged for shelter but they said that they had purchased the river with golden feathers.\"\n",
    "The King was angry with the arrogant swans for having insulted the homeless bird. He ordered his soldiers to bring the arrogant swans to his court. In no time, all the golden swans were brought to the King’s court.\n",
    "\"Do you think the royal treasury depends upon your golden feathers? You can not decide who lives by the river. Leave the river at once or you all will be beheaded!\" shouted the King.\n",
    "The swans shivered with fear on hearing the King. They flew away never to return. The bird built her home near the river and lived there happily forever. The bird gave shelter to all other birds in the river. \"\"\"\n",
    "story2 = \"\"\"Long time ago, there lived a King. He was lazy and liked all the comforts of life. He never carried out his duties as a King. “Our King does not take care of our needs. He also ignores the affairs of his kingdom.\" The people complained.\n",
    "One day, the King went into the forest to hunt. After having wandered for quite sometime, he became thirsty. To his relief, he spotted a lake. As he was drinking water, he suddenly saw a golden swan come out of the lake and perch on a stone. “Oh! A golden swan. I must capture it,\" thought the King.\n",
    "But as soon as he held his bow up, the swan disappeared. And the King heard a voice, “I am the Golden Swan. If you want to capture me, you must come to heaven.\"\n",
    "Surprised, the King said, “Please show me the way to heaven.\" “Do good deeds, serve your people and the messenger from heaven would come to fetch you to heaven,\" replied the voice.\n",
    "The selfish King, eager to capture the Swan, tried doing some good deeds in his Kingdom. “Now, I suppose a messenger will come to take me to heaven,\" he thought. But, no messenger came.\n",
    "The King then disguised himself and went out into the street. There he tried helping an old man. But the old man became angry and said, “You need not try to help. I am in this miserable state because of out selfish King. He has done nothing for his people.\"\n",
    "Suddenly, the King heard the golden swan’s voice, “Do good deeds and you will come to heaven.\" It dawned on the King that by doing selfish acts, he will not go to heaven.\n",
    "He realized that his people needed him and carrying out his duties was the only way to heaven. After that day he became a responsible King.\n",
    "\"\"\""
   ]
  },
  {
   "cell_type": "code",
   "execution_count": 3,
   "metadata": {},
   "outputs": [
    {
     "name": "stdout",
     "output_type": "stream",
     "text": [
      "('First Story words :', ['In', 'a', 'far', 'away', 'kingdom,', 'there', 'was', 'a', 'river.', 'This', 'river', 'was', 'home', 'to', 'many', 'golden', 'swans.', 'The', 'swans', 'spent', 'most', 'of', 'their', 'time', 'on', 'the', 'banks', 'of', 'the', 'river.', 'Every', 'six', 'months,', 'the', 'swans', 'would', 'leave', 'a', 'golden', 'feather', 'as', 'a', 'fee', 'for', 'using', 'the', 'lake.', 'The', 'soldiers', 'of', 'the', 'kingdom', 'would', 'collect', 'the', 'feathers', 'and', 'deposit', 'them', 'in', 'the', 'royal', 'treasury.\\nOne', 'day,', 'a', 'homeless', 'bird', 'saw', 'the', 'river.', '\"The', 'water', 'in', 'this', 'river', 'seems', 'so', 'cool', 'and', 'soothing.', 'I', 'will', 'make', 'my', 'home', 'here,\"', 'thought', 'the', 'bird.\\nAs', 'soon', 'as', 'the', 'bird', 'settled', 'down', 'near', 'the', 'river,', 'the', 'golden', 'swans', 'noticed', 'her.', 'They', 'came', 'shouting.', '\"This', 'river', 'belongs', 'to', 'us.', 'We', 'pay', 'a', 'golden', 'feather', 'to', 'the', 'King', 'to', 'use', 'this', 'river.', 'You', 'can', 'not', 'live', 'here.\"\\n\"I', 'am', 'homeless,', 'brothers.', 'I', 'too', 'will', 'pay', 'the', 'rent.', 'Please', 'give', 'me', 'shelter,\"', 'the', 'bird', 'pleaded.', '\"How', 'will', 'you', 'pay', 'the', 'rent?', 'You', 'do', 'not', 'have', 'golden', 'feathers,\"', 'said', 'the', 'swans', 'laughing.', 'They', 'further', 'added,', '\"Stop', 'dreaming', 'and', 'leave', 'once.\"', 'The', 'humble', 'bird', 'pleaded', 'many', 'times.', 'But', 'the', 'arrogant', 'swans', 'drove', 'the', 'bird', 'away.\\n\"I', 'will', 'teach', 'them', 'a', 'lesson!\"', 'decided', 'the', 'humiliated', 'bird.\\nShe', 'went', 'to', 'the', 'King', 'and', 'said,', '\"O', 'King!', 'The', 'swans', 'in', 'your', 'river', 'are', 'impolite', 'and', 'unkind.', 'I', 'begged', 'for', 'shelter', 'but', 'they', 'said', 'that', 'they', 'had', 'purchased', 'the', 'river', 'with', 'golden', 'feathers.\"\\nThe', 'King', 'was', 'angry', 'with', 'the', 'arrogant', 'swans', 'for', 'having', 'insulted', 'the', 'homeless', 'bird.', 'He', 'ordered', 'his', 'soldiers', 'to', 'bring', 'the', 'arrogant', 'swans', 'to', 'his', 'court.', 'In', 'no', 'time,', 'all', 'the', 'golden', 'swans', 'were', 'brought', 'to', 'the', 'King\\xe2\\x80\\x99s', 'court.\\n\"Do', 'you', 'think', 'the', 'royal', 'treasury', 'depends', 'upon', 'your', 'golden', 'feathers?', 'You', 'can', 'not', 'decide', 'who', 'lives', 'by', 'the', 'river.', 'Leave', 'the', 'river', 'at', 'once', 'or', 'you', 'all', 'will', 'be', 'beheaded!\"', 'shouted', 'the', 'King.\\nThe', 'swans', 'shivered', 'with', 'fear', 'on', 'hearing', 'the', 'King.', 'They', 'flew', 'away', 'never', 'to', 'return.', 'The', 'bird', 'built', 'her', 'home', 'near', 'the', 'river', 'and', 'lived', 'there', 'happily', 'forever.', 'The', 'bird', 'gave', 'shelter', 'to', 'all', 'other', 'birds', 'in', 'the', 'river.', ''])\n",
      "('Second Story words :', ['Long', 'time', 'ago,', 'there', 'lived', 'a', 'King.', 'He', 'was', 'lazy', 'and', 'liked', 'all', 'the', 'comforts', 'of', 'life.', 'He', 'never', 'carried', 'out', 'his', 'duties', 'as', 'a', 'King.', '\\xe2\\x80\\x9cOur', 'King', 'does', 'not', 'take', 'care', 'of', 'our', 'needs.', 'He', 'also', 'ignores', 'the', 'affairs', 'of', 'his', 'kingdom.\"', 'The', 'people', 'complained.\\nOne', 'day,', 'the', 'King', 'went', 'into', 'the', 'forest', 'to', 'hunt.', 'After', 'having', 'wandered', 'for', 'quite', 'sometime,', 'he', 'became', 'thirsty.', 'To', 'his', 'relief,', 'he', 'spotted', 'a', 'lake.', 'As', 'he', 'was', 'drinking', 'water,', 'he', 'suddenly', 'saw', 'a', 'golden', 'swan', 'come', 'out', 'of', 'the', 'lake', 'and', 'perch', 'on', 'a', 'stone.', '\\xe2\\x80\\x9cOh!', 'A', 'golden', 'swan.', 'I', 'must', 'capture', 'it,\"', 'thought', 'the', 'King.\\nBut', 'as', 'soon', 'as', 'he', 'held', 'his', 'bow', 'up,', 'the', 'swan', 'disappeared.', 'And', 'the', 'King', 'heard', 'a', 'voice,', '\\xe2\\x80\\x9cI', 'am', 'the', 'Golden', 'Swan.', 'If', 'you', 'want', 'to', 'capture', 'me,', 'you', 'must', 'come', 'to', 'heaven.\"\\nSurprised,', 'the', 'King', 'said,', '\\xe2\\x80\\x9cPlease', 'show', 'me', 'the', 'way', 'to', 'heaven.\"', '\\xe2\\x80\\x9cDo', 'good', 'deeds,', 'serve', 'your', 'people', 'and', 'the', 'messenger', 'from', 'heaven', 'would', 'come', 'to', 'fetch', 'you', 'to', 'heaven,\"', 'replied', 'the', 'voice.\\nThe', 'selfish', 'King,', 'eager', 'to', 'capture', 'the', 'Swan,', 'tried', 'doing', 'some', 'good', 'deeds', 'in', 'his', 'Kingdom.', '\\xe2\\x80\\x9cNow,', 'I', 'suppose', 'a', 'messenger', 'will', 'come', 'to', 'take', 'me', 'to', 'heaven,\"', 'he', 'thought.', 'But,', 'no', 'messenger', 'came.\\nThe', 'King', 'then', 'disguised', 'himself', 'and', 'went', 'out', 'into', 'the', 'street.', 'There', 'he', 'tried', 'helping', 'an', 'old', 'man.', 'But', 'the', 'old', 'man', 'became', 'angry', 'and', 'said,', '\\xe2\\x80\\x9cYou', 'need', 'not', 'try', 'to', 'help.', 'I', 'am', 'in', 'this', 'miserable', 'state', 'because', 'of', 'out', 'selfish', 'King.', 'He', 'has', 'done', 'nothing', 'for', 'his', 'people.\"\\nSuddenly,', 'the', 'King', 'heard', 'the', 'golden', 'swan\\xe2\\x80\\x99s', 'voice,', '\\xe2\\x80\\x9cDo', 'good', 'deeds', 'and', 'you', 'will', 'come', 'to', 'heaven.\"', 'It', 'dawned', 'on', 'the', 'King', 'that', 'by', 'doing', 'selfish', 'acts,', 'he', 'will', 'not', 'go', 'to', 'heaven.\\nHe', 'realized', 'that', 'his', 'people', 'needed', 'him', 'and', 'carrying', 'out', 'his', 'duties', 'was', 'the', 'only', 'way', 'to', 'heaven.', 'After', 'that', 'day', 'he', 'became', 'a', 'responsible', 'King.\\n'])\n"
     ]
    }
   ],
   "source": [
    "story1_words = story1.split(\" \")\n",
    "print(\"First Story words :\",story1_words)\n",
    "story2_words = story2.split(\" \")\n",
    "print(\"Second Story words :\",story2_words)"
   ]
  },
  {
   "cell_type": "code",
   "execution_count": 4,
   "metadata": {},
   "outputs": [
    {
     "name": "stdout",
     "output_type": "stream",
     "text": [
      "('First Story vocabulary :', set(['', 'all', '\"O', 'decide', 'soon', 'beheaded!\"', 'bring', 'swans.', 'soldiers', 'fear', 'birds', 'arrogant', 'We', 'royal', 'to', 'belongs', 'treasury', 'swans', 'gave', 'kingdom', 'do', 'them', 'his', 'far', 'flew', 'Leave', 'they', 'not', 'using', 'you', 'cool', 'shelter,\"', 'shouted', 'impolite', 'leave', 'collect', 'further', 'went', 'river', 'brothers.', 'King.\\nThe', 'said,', 'her.', 'be', 'drove', 'feathers', 'lake.', 'times.', 'decided', 'are', 'home', 'said', 'for', 'away', 'near', 'your', 'time,', 'kingdom,', 'day,', 'lesson!\"', 'forever.', 'feathers?', 'bird', 'He', 'King', 'shivered', 'who', 'This', 'rent?', 'were', 'shouting.', 'water', 'bird.\\nAs', 'river.', 'rent.', 'teach', 'by', 'river,', 'her', 'many', 'pleaded.', 'soothing.', 'added,', '\"Stop', 'settled', 'think', 'homeless,', 'unkind.', 'golden', 'seems', 'court.', 'Please', 'hearing', 'down', 'homeless', 'dreaming', 'begged', '\"The', 'pleaded', 'feathers.\"\\nThe', 'use', 'fee', 'would', 'angry', 'there', 'But', 'noticed', 'their', 'live', 'Every', 'too', 'feather', 'was', 'lived', 'on', 'happily', 'but', 'lives', 'with', 'had', 'me', 'laughing.', 'here.\"\\n\"I', 'court.\\n\"Do', 'this', 'us.', 'depends', 'return.', 'will', 'away.\\n\"I', 'here,\"', 'can', 'insulted', 'of', 'shelter', 'my', 'months,', 'and', 'bird.', 'ordered', 'purchased', 'give', 'humiliated', 'am', '\"This', 'as', 'at', 'have', 'in', 'You', 'saw', 'King\\xe2\\x80\\x99s', 'King.', 'built', 'no', 'pay', 'make', 'six', 'that', 'other', 'feathers,\"', 'They', 'once.\"', '\"How', 'I', 'In', 'upon', 'most', 'never', 'bird.\\nShe', 'The', 'King!', 'a', 'humble', 'treasury.\\nOne', 'spent', 'brought', 'or', 'thought', 'so', 'deposit', 'time', 'banks', 'the', 'having', 'came', 'once']))\n",
      "('Second Story vocabulary', set(['replied', 'perch', 'all', 'responsible', 'show', 'soon', 'held', '\\xe2\\x80\\x9cOh!', 'Kingdom.', 'go', 'up,', 'helping', 'voice.\\nThe', 'swan', 'deeds', 'lake', 'him', 'to', 'only', 'selfish', 'must', 'take', 'ago,', 'his', 'Swan,', 'Swan.', '\\xe2\\x80\\x9cPlease', 'me', 'not', 'drinking', 'stone.', 'heaven', 'swan.', 'help.', 'try', '\\xe2\\x80\\x9cNow,', 'went', 'comforts', 'spotted', 'because', 'old', 'people', 'doing', 'me,', 'some', 'Long', 'lake.', 'deeds,', 'ignores', 'our', 'needs.', 'out', 'for', 'heaven.\"\\nSurprised,', 'relief,', 'does', 'messenger', 'man.', 'He', '\\xe2\\x80\\x9cDo', 'King', 'lazy', 'state', 'never', 'quite', 'carried', 'street.', 'kingdom.\"', 'come', 'by', 'care', 'on', 'acts,', 'thirsty.', 'disguised', 'King.\\nBut', 'of', 'swan\\xe2\\x80\\x99s', 'bow', 'became', 'golden', 'liked', '\\xe2\\x80\\x9cI', 'suddenly', 'into', 'There', 'complained.\\nOne', 'thought.', 'done', 'miserable', 'your', 'dawned', 'from', 'it,\"', 'hunt.', 'eager', 'heaven.\"', 'angry', 'there', 'But', 'King.\\n', 'needed', 'way', 'was', 'duties', 'lived', 'that', 'serve', 'carrying', 'came.\\nThe', '\\xe2\\x80\\x9cOur', 'he', 'And', 'Golden', 'has', 'heard', 'this', 'disappeared.', 'will', 'suppose', 'life.', 'fetch', 'and', 'would', 'heaven.\\nHe', 'then', 'am', 'an', 'To', 'as', 'good', 'water,', 'want', 'in', 'need', 'himself', 'But,', 'saw', 'affairs', 'heaven,\"', 'King.', 'heaven.', 'King,', 'no', 'said,', '\\xe2\\x80\\x9cYou', 'After', 'wandered', 'also', 'sometime,', 'forest', 'you', 'day', 'A', 'tried', 'capture', 'I', 'time', 'voice,', 'nothing', 'The', 'man', 'a', 'realized', 'It', 'people.\"\\nSuddenly,', 'thought', 'As', 'day,', 'the', 'having', 'If']))\n"
     ]
    }
   ],
   "source": [
    "story1_vocab = set(story1_words)\n",
    "print(\"First Story vocabulary :\",story1_vocab)\n",
    "story2_vocab = set(story2_words)\n",
    "print(\"Second Story vocabulary\",story2_vocab)"
   ]
  },
  {
   "cell_type": "code",
   "execution_count": 5,
   "metadata": {},
   "outputs": [
    {
     "name": "stdout",
     "output_type": "stream",
     "text": [
      "('Common Vocabulary :', set(['and', 'golden', 'all', 'am', 'soon', 'lake.', 'as', 'lived', 'in', 'saw', 'your', 'thought', 'King.', 'for', 'no', 'said,', 'angry', 'there', 'But', 'the', 'to', 'day,', 'you', 'was', 'He', 'King', 'his', 'that', 'I', 'never', 'a', 'not', 'The', 'by', 'me', 'on', 'would', 'this', 'of', 'will', 'time', 'went', 'having']))\n"
     ]
    }
   ],
   "source": [
    "common_vocab = story1_vocab & story2_vocab\n",
    "print(\"Common Vocabulary :\",common_vocab)"
   ]
  }
 ],
 "metadata": {
  "kernelspec": {
   "display_name": "Python 2",
   "language": "python",
   "name": "python2"
  },
  "language_info": {
   "codemirror_mode": {
    "name": "ipython",
    "version": 2
   },
   "file_extension": ".py",
   "mimetype": "text/x-python",
   "name": "python",
   "nbconvert_exporter": "python",
   "pygments_lexer": "ipython2",
   "version": "2.7.14"
  }
 },
 "nbformat": 4,
 "nbformat_minor": 2
}
