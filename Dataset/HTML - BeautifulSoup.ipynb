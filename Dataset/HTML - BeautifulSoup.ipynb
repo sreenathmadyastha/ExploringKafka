{
 "cells": [
  {
   "cell_type": "code",
   "execution_count": 1,
   "metadata": {
    "collapsed": true
   },
   "outputs": [],
   "source": [
    "from bs4 import BeautifulSoup\n",
    "basedir ='/home/smadyastha/Projects/PythonCheck/Feed/'"
   ]
  },
  {
   "cell_type": "code",
   "execution_count": 2,
   "metadata": {
    "collapsed": true
   },
   "outputs": [],
   "source": [
    "html_doc = open(basedir + 'sample-html.html', 'r').read()\n",
    "soup = BeautifulSoup(html_doc, 'html.parser')"
   ]
  },
  {
   "cell_type": "code",
   "execution_count": 3,
   "metadata": {},
   "outputs": [
    {
     "name": "stdout",
     "output_type": "stream",
     "text": [
      "\n",
      "\n",
      "Full text HTML Stripped:\n",
      "\n",
      "\n",
      "\n",
      "Sample Web Page\n",
      "\n",
      "\n",
      "\n",
      "Main heading\n",
      "This is a very simple HTML document\n",
      "Improve your image by including an image. \n",
      "\n",
      "Add a link to your favorite Web site.\n",
      " This is a new sentence without a paragraph break, in bold italics.\n",
      "\n",
      "\n",
      "Accessing the <title> tag :\n",
      "<title>Sample Web Page</title>\n",
      "Main heading\n",
      "Accessing property of <img> tag :\n",
      "A Great HTML Resource\n"
     ]
    }
   ],
   "source": [
    "print('\\n\\nFull text HTML Stripped:')\n",
    "print(soup.get_text())\n",
    "print('Accessing the <title> tag :')\n",
    "print(soup.title)\n",
    "print(soup.h1.string)\n",
    "print('Accessing property of <img> tag :')\n",
    "print(soup.img['alt'])"
   ]
  },
  {
   "cell_type": "code",
   "execution_count": 4,
   "metadata": {},
   "outputs": [
    {
     "name": "stdout",
     "output_type": "stream",
     "text": [
      "\n",
      "Accessing all occurences of the <p> tag :\n",
      "This is a very simple HTML document\n",
      "Improve your image by including an image. \n",
      "None\n"
     ]
    }
   ],
   "source": [
    "print('\\nAccessing all occurences of the <p> tag :')\n",
    "for p in soup.find_all('p'):\n",
    "  print(p.string)"
   ]
  }
 ],
 "metadata": {
  "kernelspec": {
   "display_name": "Python 2",
   "language": "python",
   "name": "python2"
  },
  "language_info": {
   "codemirror_mode": {
    "name": "ipython",
    "version": 2
   },
   "file_extension": ".py",
   "mimetype": "text/x-python",
   "name": "python",
   "nbconvert_exporter": "python",
   "pygments_lexer": "ipython2",
   "version": "2.7.14"
  }
 },
 "nbformat": 4,
 "nbformat_minor": 2
}
