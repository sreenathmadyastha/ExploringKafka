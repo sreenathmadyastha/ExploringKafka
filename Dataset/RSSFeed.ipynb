{
 "cells": [
  {
   "cell_type": "code",
   "execution_count": 1,
   "metadata": {
    "collapsed": true
   },
   "outputs": [],
   "source": [
    "import feedparser"
   ]
  },
  {
   "cell_type": "code",
   "execution_count": 2,
   "metadata": {
    "collapsed": true
   },
   "outputs": [],
   "source": [
    "myFeed = feedparser.parse(\"http://feeds.mashable.com/Mashable\")"
   ]
  },
  {
   "cell_type": "code",
   "execution_count": 3,
   "metadata": {},
   "outputs": [
    {
     "name": "stdout",
     "output_type": "stream",
     "text": [
      "('Feed Title :', u'Mashable')\n",
      "('Number of posts :', 30)\n"
     ]
    }
   ],
   "source": [
    "print('Feed Title :', myFeed['feed']['title'])\n",
    "print('Number of posts :', len(myFeed.entries))"
   ]
  },
  {
   "cell_type": "code",
   "execution_count": 4,
   "metadata": {},
   "outputs": [
    {
     "name": "stdout",
     "output_type": "stream",
     "text": [
      "('Post Title :', u\"Chris Cornell's wife posts heartbreaking Christmas video\")\n"
     ]
    }
   ],
   "source": [
    "post = myFeed.entries[10]\n",
    "print('Post Title :',post.title)\n"
   ]
  },
  {
   "cell_type": "code",
   "execution_count": 5,
   "metadata": {},
   "outputs": [
    {
     "name": "stdout",
     "output_type": "stream",
     "text": [
      "('Raw content :\\n', u'<img alt=\"\" src=\"https://i.amz.mshcdn.com/chSh1CdQmumLEp-kJ33nDYl2AfY=/575x323/filters:quality(90)/https%3A%2F%2Fblueprint-api-production.s3.amazonaws.com%2Fuploads%2Fcard%2Fimage%2F682808%2F9e43d86a-e3e8-48a3-bc17-20ee7df3a30f.jpg\" /><div style=\"float: right; width: 50px;\"><a href=\"https://twitter.com/share?via=Mashable&amp;text=Chris+Cornell%27s+wife+posts+heartbreaking+Christmas+video&amp;url=http%3A%2F%2Fmashable.com%2F2017%2F12%2F22%2Fchris-cornell-christmas-video-memories%2F\" style=\"margin: 10px;\"><img alt=\"Twitter\" border=\"0\" src=\"https://a.amz.mshcdn.com/assets/feed-tw-e71baf64f2ec58d01cd28f4e9ef6b2ce0370b42fbd965068e9e7b58be198fb13.jpg\" /></a><a href=\"https://www.facebook.com/sharer.php?u=http%3A%2F%2Fmashable.com%2F2017%2F12%2F22%2Fchris-cornell-christmas-video-memories%2F&amp;src=sp\" style=\"margin: 10px;\"><img alt=\"Facebook\" border=\"0\" src=\"https://a.amz.mshcdn.com/assets/feed-fb-8e3bd31e201ea65385a524ef67519d031e6851071807055648790d6a4ca77139.jpg\" /></a></div><p>For Chris Cornell\\'s family, the holidays will be difficult this year &#8212; but as his wife Vicky showed Friday on Twitter, the former Audioslave and Soundgarden frontman is never far from their thoughts.</p>\\n<p>Vicky posted a video of Cornell with one of his three children that was for a school project \"years ago.\" She wrote \"while the holidays will never be the same again without Chris, we will always remember his boundless love.\"</p>\\n<div><p>SEE ALSO: <a href=\"http://mashable.com/2017/05/18/chris-cornell-last-gig-detroit-dead-concert/\">Amazing pictures of Chris Cornell\\'s final concert will break your heart</a></p></div>\\n<p>Cornell <a href=\"http://mashable.com/2017/05/18/chris-cornell-dead-soundgarden-audioslave/\">died in May</a> while on tour with Soundgarden in Detroit.</p>\\n<p>In the home video, Cornell and his son Chris talk about the family\\'s Christmas traditions like skiing and snowboarding and traveling to Rome, Greece, and Paris. \"We spend a lot of time with our family,\" Cornell says at the end. \"That\\'s what we like to do.\" <a href=\"http://mashable.com/2017/12/22/chris-cornell-christmas-video-memories/\">Read more...</a></p>More about <a href=\"http://mashable.com/category/christmas/?utm_campaign=Mash-Prod-RSS-Feedburner-All-Partial&amp;utm_cid=Mash-Prod-RSS-Feedburner-All-Partial\">Christmas</a>, <a href=\"http://mashable.com/category/family/?utm_campaign=Mash-Prod-RSS-Feedburner-All-Partial&amp;utm_cid=Mash-Prod-RSS-Feedburner-All-Partial\">Family</a>, <a href=\"http://mashable.com/category/memory/?utm_campaign=Mash-Prod-RSS-Feedburner-All-Partial&amp;utm_cid=Mash-Prod-RSS-Feedburner-All-Partial\">Memory</a>, <a href=\"http://mashable.com/category/chris-cornell/?utm_campaign=Mash-Prod-RSS-Feedburner-All-Partial&amp;utm_cid=Mash-Prod-RSS-Feedburner-All-Partial\">Chris Cornell</a>, and <a href=\"http://mashable.com/category/celebrity-death/?utm_campaign=Mash-Prod-RSS-Feedburner-All-Partial&amp;utm_cid=Mash-Prod-RSS-Feedburner-All-Partial\">Celebrity Death</a>\\n<div>\\n<a href=\"https://pubads.g.doubleclick.net/gampad/jump?iu=/6692/mash.to/rss&amp;pos=atf&amp;tag=ad&amp;mtype=standard&amp;type=rss&amp;sz=300x250&amp;c=1514037985\" target=\"_blank\">\\n<img src=\"https://pubads.g.doubleclick.net/gampad/ad?iu=/6692/mash.to/rss&amp;pos=atf&amp;tag=ad&amp;mtype=standard&amp;type=rss&amp;sz=300x250&amp;c=1514037985\" />\\n</a>\\n</div><img alt=\"\" height=\"1\" src=\"http://feeds.feedburner.com/~r/Mashable/~4/yRQocTlRVn0\" width=\"1\" />')\n"
     ]
    }
   ],
   "source": [
    "content = post.content[0].value\n",
    "print('Raw content :\\n',content)"
   ]
  }
 ],
 "metadata": {
  "kernelspec": {
   "display_name": "Python 2",
   "language": "python",
   "name": "python2"
  },
  "language_info": {
   "codemirror_mode": {
    "name": "ipython",
    "version": 2
   },
   "file_extension": ".py",
   "mimetype": "text/x-python",
   "name": "python",
   "nbconvert_exporter": "python",
   "pygments_lexer": "ipython2",
   "version": "2.7.14"
  }
 },
 "nbformat": 4,
 "nbformat_minor": 2
}
