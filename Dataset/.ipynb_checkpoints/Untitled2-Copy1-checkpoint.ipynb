{
 "cells": [
  {
   "cell_type": "code",
   "execution_count": 8,
   "metadata": {},
   "outputs": [],
   "source": [
    "import re\n",
    "def text_match(text, patterns):\n",
    " if re.search(patterns,  text):\n",
    "  return 'Found a match!'\n",
    " else:\n",
    "  return('Not matched!')\n",
    "\n",
    "def text_match2(text, patterns):\n",
    " if re.search(patterns,  text):\n",
    "   return 'Found a match!'\n",
    " else:\n",
    "   return('Not matched!')"
   ]
  },
  {
   "cell_type": "code",
   "execution_count": 10,
   "metadata": {},
   "outputs": [
    {
     "name": "stdout",
     "output_type": "stream",
     "text": [
      "Found a match!\n",
      "Not matched!\n",
      "Found a match!\n",
      "Found a match!\n",
      "Pattern to test starts and ends with\n",
      "Found a match!\n",
      "Begin with a word\n",
      "Found a match!\n"
     ]
    }
   ],
   "source": [
    " print(text_match(\"ac\", \"ab?\"))\n",
    "print(text_match(\"ac\", \"ab+\"))\n",
    "print(text_match(\"abc\", \"ab+\"))\n",
    "print(text_match(\"abbc\", \"ab+\"))\n",
    "print(\"Pattern to test starts and ends with\")\n",
    "print(text_match2(\"abbc\", \"^a.*c$\"))\n",
    "print(\"Begin with a word\")\n",
    "print(text_match2(\"Tuffy eats pie, Loki eats peas!\", \"^\\w+\"))"
   ]
  }
 ],
 "metadata": {
  "kernelspec": {
   "display_name": "Python 2",
   "language": "python",
   "name": "python2"
  },
  "language_info": {
   "codemirror_mode": {
    "name": "ipython",
    "version": 2
   },
   "file_extension": ".py",
   "mimetype": "text/x-python",
   "name": "python",
   "nbconvert_exporter": "python",
   "pygments_lexer": "ipython2",
   "version": "2.7.14"
  }
 },
 "nbformat": 4,
 "nbformat_minor": 2
}
