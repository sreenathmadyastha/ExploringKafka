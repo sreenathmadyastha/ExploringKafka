{
 "cells": [
  {
   "cell_type": "code",
   "execution_count": 13,
   "metadata": {
    "scrolled": true
   },
   "outputs": [
    {
     "name": "stdout",
     "output_type": "stream",
     "text": [
      "[u'adventure', u'belles_lettres', u'editorial', u'fiction', u'government', u'hobbies', u'humor', u'learned', u'lore', u'mystery', u'news', u'religion', u'reviews', u'romance', u'science_fiction', u'sreenath']\n"
     ]
    }
   ],
   "source": [
    "import nltk\n",
    "from nltk.corpus import brown\n",
    "print (brown.categories())"
   ]
  },
  {
   "cell_type": "code",
   "execution_count": 11,
   "metadata": {
    "scrolled": true
   },
   "outputs": [
    {
     "name": "stdout",
     "output_type": "stream",
     "text": [
      "()\n",
      "Analysing 'sreenath' wh words\n",
      "<FreqDist with 1073 samples and 2333 outcomes>\n",
      "('What:', 1)\n",
      "('what:', 3)\n",
      "('which:', 5)\n",
      "('how:', 1)\n",
      "('why:', 0)\n",
      "('when:', 2)\n",
      "('where:', 1)\n",
      "('who:', 8)\n",
      "('Go:', 0)\n"
     ]
    }
   ],
   "source": [
    "genres = ['fiction', 'humor', 'romance', 'sreenath']\n",
    "whwords = ['What','what','which', 'how', 'why', 'when', 'where', 'who','Go1']\n",
    "\n",
    "for i in range(0,len(genres)):\n",
    "    genre = genres[i]\n",
    "print()\n",
    "print(\"Analysing '\"+ genre + \"' wh words\")\n",
    "genre_text = brown.words(categories = genre)\n",
    "fdist = nltk.FreqDist(genre_text)\n",
    "print fdist\n",
    "for wh in whwords:\n",
    "    print(wh + ':', fdist[wh])"
   ]
  },
  {
   "cell_type": "code",
   "execution_count": null,
   "metadata": {
    "collapsed": true
   },
   "outputs": [],
   "source": []
  }
 ],
 "metadata": {
  "kernelspec": {
   "display_name": "Python 2",
   "language": "python",
   "name": "python2"
  },
  "language_info": {
   "codemirror_mode": {
    "name": "ipython",
    "version": 2
   },
   "file_extension": ".py",
   "mimetype": "text/x-python",
   "name": "python",
   "nbconvert_exporter": "python",
   "pygments_lexer": "ipython2",
   "version": "2.7.14"
  }
 },
 "nbformat": 4,
 "nbformat_minor": 2
}
