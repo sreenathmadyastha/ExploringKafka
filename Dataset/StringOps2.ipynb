{
 "cells": [
  {
   "cell_type": "code",
   "execution_count": 1,
   "metadata": {
    "collapsed": true
   },
   "outputs": [],
   "source": [
    "str = 'NLTK Dolly Python'"
   ]
  },
  {
   "cell_type": "code",
   "execution_count": 9,
   "metadata": {},
   "outputs": [
    {
     "name": "stdout",
     "output_type": "stream",
     "text": [
      "('Substring ends at:', 'NLTK')\n",
      "('Substring ends at:', 't')\n",
      "('Substring :', 'Dolly')\n",
      "('Substring fancy:', 'Dolly')\n",
      "found NLTK\n",
      "('Replaced String:', 'NLTK Dorothy Python')\n"
     ]
    }
   ],
   "source": [
    "print('Substring ends at:',str[:4])\n",
    "print('Substring ends at:',str[-4])\n",
    "print('Substring :',str[5:10])\n",
    "print('Substring fancy:', str[-12:-7])\n",
    "if 'NLTK' in str:\n",
    "  print('found NLTK')\n",
    "replaced = str.replace('Dolly', 'Dorothy')\n",
    "print('Replaced String:', replaced)\n"
   ]
  }
 ],
 "metadata": {
  "kernelspec": {
   "display_name": "Python 2",
   "language": "python",
   "name": "python2"
  },
  "language_info": {
   "codemirror_mode": {
    "name": "ipython",
    "version": 2
   },
   "file_extension": ".py",
   "mimetype": "text/x-python",
   "name": "python",
   "nbconvert_exporter": "python",
   "pygments_lexer": "ipython2",
   "version": "2.7.14"
  }
 },
 "nbformat": 4,
 "nbformat_minor": 2
}
