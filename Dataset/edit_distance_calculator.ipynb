{
 "cells": [
  {
   "cell_type": "code",
   "execution_count": 13,
   "metadata": {
    "scrolled": true
   },
   "outputs": [],
   "source": [
    "from nltk.metrics.distance import edit_distance\n",
    "def my_edit_distance(str1, str2):\n",
    " m=len(str1)+1\n",
    " n=len(str2)+1\n",
    " table = {}\n",
    " for i in range(m): \n",
    "     table[i,0]=i\n",
    " for j in range(n): \n",
    "    table[0,j]=j\n",
    " for i in range(1, m):\n",
    "  for j in range(1, n):\n",
    "    cost = 0     if str1[i-1] == str2[j-1] else 1\n",
    "    table[i,j] = min(table[i, j-1]+1, table[i-1, j]+1, table[i-1, j-1]+cost)\n",
    " return table[i,j]\n",
    "\n",
    "\n",
    "\n",
    "    \n",
    "\n"
   ]
  },
  {
   "cell_type": "code",
   "execution_count": 14,
   "metadata": {},
   "outputs": [
    {
     "name": "stdout",
     "output_type": "stream",
     "text": [
      "('Our Algorithm :', 1)\n",
      "('NLTK Algorithm :', 1)\n"
     ]
    }
   ],
   "source": [
    "print(\"Our Algorithm :\",my_edit_distance(\"hand\", \"and\"))\n",
    "print(\"NLTK Algorithm :\",edit_distance(\"hand\", \"and\"))"
   ]
  }
 ],
 "metadata": {
  "kernelspec": {
   "display_name": "Python 2",
   "language": "python",
   "name": "python2"
  },
  "language_info": {
   "codemirror_mode": {
    "name": "ipython",
    "version": 2
   },
   "file_extension": ".py",
   "mimetype": "text/x-python",
   "name": "python",
   "nbconvert_exporter": "python",
   "pygments_lexer": "ipython2",
   "version": "2.7.14"
  }
 },
 "nbformat": 4,
 "nbformat_minor": 2
}
