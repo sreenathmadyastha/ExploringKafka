{
 "cells": [
  {
   "cell_type": "code",
   "execution_count": 23,
   "metadata": {},
   "outputs": [
    {
     "name": "stdout",
     "output_type": "stream",
     "text": [
      "[nltk_data] Downloading package punkt to /usr/share/nltk_data...\n",
      "[nltk_data]   Unzipping tokenizers/punkt.zip.\n"
     ]
    },
    {
     "data": {
      "text/plain": [
       "True"
      ]
     },
     "execution_count": 23,
     "metadata": {},
     "output_type": "execute_result"
    }
   ],
   "source": [
    "import nltk\n",
    "nltk.download('punkt')"
   ]
  },
  {
   "cell_type": "code",
   "execution_count": 12,
   "metadata": {},
   "outputs": [],
   "source": [
    "import os\n",
    "import word, pdf2\n",
    "basedir ='/home/smadyastha/Projects/PythonCheck/Feed/'\n",
    "from nltk.corpus.reader.plaintext import PlaintextCorpusReader\n",
    "def getText(txtFileName):\n",
    "  file = open(txtFileName, 'r')\n",
    "  return file.read()\n",
    "newCorpusDir = 'mycorpus/'\n",
    "if not os.path.isdir(newCorpusDir):\n",
    "  os.mkdir(newCorpusDir)\n",
    "\n",
    "txt1 = getText( basedir + 'sample_feed.txt')\n",
    "txt2 = pdf2.getTextPDF( basedir + 'sample-pdf.pdf')\n",
    "txt3 = word.getTextWord(basedir + 'sample-one-line.docx')\n",
    "\n",
    "files = [txt1,txt2,txt3]\n",
    "for idx, f in enumerate(files):\n",
    "  with open(newCorpusDir+str(idx)+'.txt', 'w') as fout:\n",
    "    fout.write(f)\n",
    "newCorpus = PlaintextCorpusReader(newCorpusDir, '.*')"
   ]
  },
  {
   "cell_type": "code",
   "execution_count": 19,
   "metadata": {},
   "outputs": [
    {
     "name": "stdout",
     "output_type": "stream",
     "text": [
      "[u'Five', u'months', u'.', u'That', u\"'\", u's', u'how', ...]\n"
     ]
    }
   ],
   "source": [
    "print(newCorpus.words())\n"
   ]
  },
  {
   "cell_type": "code",
   "execution_count": 28,
   "metadata": {},
   "outputs": [
    {
     "name": "stdout",
     "output_type": "stream",
     "text": [
      "0.txt\n",
      "[[u'Five', u'months', u'.'], [u'That', u\"'\", u's', u'how', u'long', u'it', u\"'\", u's', u'been', u'since', u'Mass', u'Effect', u':', u'Andromeda', u'launched', u',', u'and', u'that', u\"'\", u's', u'how', u'long', u'it', u'took', u'BioWare', u'Montreal', u'to', u'admit', u'that', u'nothing', u'more', u'can', u'be', u'done', u'with', u'the', u'ailing', u'game', u\"'\", u's', u'story', u'mode', u'.'], ...]\n",
      "[[[u'Article', u'By', u'-']], [[u'Krishna', u'Bhavsar']], ...]\n"
     ]
    }
   ],
   "source": [
    "print(newCorpus.fileids()[0])\n",
    "print(newCorpus.sents( newCorpus.fileids()[0]))\n",
    "print(newCorpus.paras(newCorpus.fileids()[1]))\n"
   ]
  }
 ],
 "metadata": {
  "kernelspec": {
   "display_name": "Python 2",
   "language": "python",
   "name": "python2"
  },
  "language_info": {
   "codemirror_mode": {
    "name": "ipython",
    "version": 2
   },
   "file_extension": ".py",
   "mimetype": "text/x-python",
   "name": "python",
   "nbconvert_exporter": "python",
   "pygments_lexer": "ipython2",
   "version": "2.7.14"
  }
 },
 "nbformat": 4,
 "nbformat_minor": 2
}
