{
 "cells": [
  {
   "cell_type": "code",
   "execution_count": 1,
   "metadata": {
    "collapsed": true
   },
   "outputs": [],
   "source": [
    "import nltk\n",
    "nltk.data.path.append('/usr/share/nltk_data/corpora')\n"
   ]
  },
  {
   "cell_type": "code",
   "execution_count": 2,
   "metadata": {
    "scrolled": true
   },
   "outputs": [],
   "source": [
    "from nltk.corpus import wordnet as wn\n",
    "chair = 'electric'"
   ]
  },
  {
   "cell_type": "code",
   "execution_count": 3,
   "metadata": {
    "scrolled": true
   },
   "outputs": [
    {
     "name": "stdout",
     "output_type": "stream",
     "text": [
      "('Synsets/Senses of Chair :', [Synset('electric.n.01'), Synset('electric.a.01'), Synset('electric.s.02'), Synset('electric.s.03')], '\\n\\n')\n"
     ]
    }
   ],
   "source": [
    "chair_synsets = wn.synsets(chair)\n",
    "print('Synsets/Senses of Chair :', chair_synsets, '\\n\\n')"
   ]
  },
  {
   "cell_type": "code",
   "execution_count": 4,
   "metadata": {
    "scrolled": true
   },
   "outputs": [
    {
     "name": "stdout",
     "output_type": "stream",
     "text": [
      "(Synset('electric.n.01'), ': ')\n",
      "('Definition: ', u'a van that is powered by electricity electricyity power')\n",
      "('Lemmas/Synonymous words: ', [u'electric', u'electric_automobile', u'electric_car'])\n",
      "('Example: ', [], '\\n')\n",
      "(Synset('electric.a.01'), ': ')\n",
      "('Definition: ', u'using or providing or producing or transmitting or operated by electricity')\n",
      "('Lemmas/Synonymous words: ', [u'electric', u'electrical'])\n",
      "('Example: ', [u'electric current', u'electric wiring', u'electrical appliances', u'an electrical storm'], '\\n')\n",
      "(Synset('electric.s.02'), ': ')\n",
      "('Definition: ', u'(of a situation) exceptionally tense')\n",
      "('Lemmas/Synonymous words: ', [u'electric'])\n",
      "('Example: ', [u'an atmosphere electric with suspicion'], '\\n')\n",
      "(Synset('electric.s.03'), ': ')\n",
      "('Definition: ', u'affected by emotion as if by electricity; thrilling')\n",
      "('Lemmas/Synonymous words: ', [u'electric', u'galvanic', u'galvanizing', u'galvanising'])\n",
      "('Example: ', [u'gave an electric reading of the play', u'the new leader had a galvanic effect on morale'], '\\n')\n"
     ]
    }
   ],
   "source": [
    "for synset in chair_synsets:\n",
    "  print(synset, ': ')\n",
    "  print('Definition: ', synset.definition())\n",
    "  print('Lemmas/Synonymous words: ', synset.lemma_names())\n",
    "  print('Example: ', synset.examples(), '\\n')"
   ]
  },
  {
   "cell_type": "code",
   "execution_count": null,
   "metadata": {
    "collapsed": true
   },
   "outputs": [],
   "source": []
  }
 ],
 "metadata": {
  "kernelspec": {
   "display_name": "Python 2",
   "language": "python",
   "name": "python2"
  },
  "language_info": {
   "codemirror_mode": {
    "name": "ipython",
    "version": 2
   },
   "file_extension": ".py",
   "mimetype": "text/x-python",
   "name": "python",
   "nbconvert_exporter": "python",
   "pygments_lexer": "ipython2",
   "version": "2.7.14"
  }
 },
 "nbformat": 4,
 "nbformat_minor": 2
}
